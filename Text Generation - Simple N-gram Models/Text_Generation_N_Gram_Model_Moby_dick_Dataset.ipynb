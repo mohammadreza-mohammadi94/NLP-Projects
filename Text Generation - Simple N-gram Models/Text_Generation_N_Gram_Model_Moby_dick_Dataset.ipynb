{
  "nbformat": 4,
  "nbformat_minor": 0,
  "metadata": {
    "colab": {
      "provenance": [],
      "authorship_tag": "ABX9TyNdLJ9DaOyoTCs/HGBzZLXB",
      "include_colab_link": true
    },
    "kernelspec": {
      "name": "python3",
      "display_name": "Python 3"
    },
    "language_info": {
      "name": "python"
    }
  },
  "cells": [
    {
      "cell_type": "markdown",
      "metadata": {
        "id": "view-in-github",
        "colab_type": "text"
      },
      "source": [
        "<a href=\"https://colab.research.google.com/github/mohammadreza-mohammadi94/NLP-Projects/blob/main/Text%20Generation%20-%20Simple%20N-gram%20Models/Text_Generation_N_Gram_Model_Moby_dick_Dataset.ipynb\" target=\"_parent\"><img src=\"https://colab.research.google.com/assets/colab-badge.svg\" alt=\"Open In Colab\"/></a>"
      ]
    },
    {
      "cell_type": "markdown",
      "source": [
        "# Download Dataset"
      ],
      "metadata": {
        "id": "Iw7fpygA-SFv"
      }
    },
    {
      "cell_type": "code",
      "execution_count": 19,
      "metadata": {
        "id": "qF4Bu_vQ-IPS"
      },
      "outputs": [],
      "source": [
        "import requests\n",
        "import re\n",
        "\n",
        "url = \"https://www.gutenberg.org/files/2701/2701-0.txt\"\n",
        "# Get text\n",
        "text = requests.get(url).text\n",
        "# text"
      ]
    },
    {
      "cell_type": "markdown",
      "source": [
        "## Filter `Moby-dick`"
      ],
      "metadata": {
        "id": "TArhuBqV_MQj"
      }
    },
    {
      "cell_type": "code",
      "source": [
        "# Filter Moby-Dick Chapter from Gutenberg Project\n",
        "start = text.find(\"CHAPTER 1. Loomings.\")       # Start of text\n",
        "end = text.find(\"End of Project Gutenberg\")     # End of text\n",
        "text = text[start:end]                          # Full text"
      ],
      "metadata": {
        "id": "T6F8vdsN-ab3"
      },
      "execution_count": 21,
      "outputs": []
    },
    {
      "cell_type": "markdown",
      "source": [
        "## Text Cleaning"
      ],
      "metadata": {
        "id": "tfb0vG2pBTWq"
      }
    },
    {
      "cell_type": "code",
      "source": [
        "text = re.sub(r\"[^a-zA-Z\\s]\", \"\", text).lower()\n",
        "words = text.split()\n",
        "print(f\"Total words: {len(words)}\")"
      ],
      "metadata": {
        "colab": {
          "base_uri": "https://localhost:8080/"
        },
        "id": "JZqRnOAnBTPj",
        "outputId": "275fd6a3-ecc7-42a3-d55e-d9e0d817d89f"
      },
      "execution_count": 5,
      "outputs": [
        {
          "output_type": "stream",
          "name": "stdout",
          "text": [
            "Total words: 212399\n"
          ]
        }
      ]
    },
    {
      "cell_type": "markdown",
      "source": [
        "# Trigram Model"
      ],
      "metadata": {
        "id": "9kjH1G4V_QXJ"
      }
    },
    {
      "cell_type": "code",
      "source": [
        "from collections import defaultdict\n",
        "import random\n",
        "\n",
        "# Creating dict\n",
        "trigrams = defaultdict(list)\n",
        "\n",
        "for i in range(len(words) - 2):\n",
        "    key = (words[i], words[i+1])\n",
        "    value = words[i+2]\n",
        "    trigrams[key].append(value)"
      ],
      "metadata": {
        "id": "mlNW3-jo-6bc"
      },
      "execution_count": 6,
      "outputs": []
    },
    {
      "cell_type": "markdown",
      "source": [
        "*A `defaultdict` is a dictionary subclass that provides a default value for a key that does not exist, preventing a KeyError.*\n",
        "\n",
        "*When you create a `defaultdict`, you provide it with a factory function (like int, list, or set). If you try to access or modify a key that is not in the dictionary, this function is automatically called to create a default value for that key.*  \n",
        "  \n",
        "---  \n",
        "\n",
        "**We use `defaultdict` when building trigram models to easily count the frequencies of word sequences without writing extra code to handle keys that haven't been seen yet.\n",
        "Building a trigram model requires counting two things**:\n",
        "\n",
        "* **The frequency of the two-word prefix (e.g., count(\"San Francisco\"))**.\n",
        "\n",
        "* **The frequency of the full three-word sequence (e.g., count(\"San Francisco is\"))**.\n",
        "\n",
        "**defaultdict makes this counting process much cleaner.**"
      ],
      "metadata": {
        "id": "9R0fS4T1AL_o"
      }
    },
    {
      "cell_type": "markdown",
      "source": [
        "## Text Generation"
      ],
      "metadata": {
        "id": "mOvmkB7lB6te"
      }
    },
    {
      "cell_type": "code",
      "source": [
        "def generate_text(start_words=(\"call\", \"me\"), num_words=50):\n",
        "    output = list(start_words)\n",
        "    for _ in range(num_words):\n",
        "        key = (output[-2], output[-1])\n",
        "        next_words = trigrams.get(key)\n",
        "        if not next_words:\n",
        "            break\n",
        "        next_word = random.choice(next_words)\n",
        "        output.append(next_word)\n",
        "    return \" \".join(output)\n",
        "\n",
        "print(generate_text((\"the\", \"whale\")))"
      ],
      "metadata": {
        "colab": {
          "base_uri": "https://localhost:8080/"
        },
        "id": "_ChfKny8Ci8C",
        "outputId": "02e1c54a-5065-4e29-f6c3-c7a567fe1566"
      },
      "execution_count": 12,
      "outputs": [
        {
          "output_type": "stream",
          "name": "stdout",
          "text": [
            "the whale swimming out from the water the thinnest shreds of the white whale he struck the spanish land but i have seen him lay of nights in a panic and to all these things should fail in latently engendering an element in which they gaze however it was given at all\n"
          ]
        }
      ]
    },
    {
      "cell_type": "code",
      "source": [],
      "metadata": {
        "id": "HML7YhilCW2M"
      },
      "execution_count": null,
      "outputs": []
    },
    {
      "cell_type": "markdown",
      "source": [
        "# Bigram Model"
      ],
      "metadata": {
        "id": "1YGzT6o2HueA"
      }
    },
    {
      "cell_type": "code",
      "source": [
        "bigrams = defaultdict(list)\n",
        "\n",
        "for i in range(len(words) - 1):\n",
        "    current_word = words[i]\n",
        "    next_word = words[i + 1]\n",
        "    bigrams[current_word].append(next_word)\n"
      ],
      "metadata": {
        "id": "yvgdnU_VHv-5"
      },
      "execution_count": 13,
      "outputs": []
    },
    {
      "cell_type": "markdown",
      "source": [
        "## Text Generation"
      ],
      "metadata": {
        "id": "MH_Z2ClOIUht"
      }
    },
    {
      "cell_type": "code",
      "source": [
        "def generate_sentence(start_word, num_words=10):\n",
        "    sentence = [start_word]\n",
        "    current = start_word\n",
        "    for _ in range(num_words - 1):\n",
        "        next_words = bigrams.get(current)\n",
        "        if not next_words:\n",
        "            break\n",
        "        current = random.choice(next_words)\n",
        "        sentence.append(current)\n",
        "    return \" \".join(sentence)"
      ],
      "metadata": {
        "id": "uZQ3r-AVIT8N"
      },
      "execution_count": 17,
      "outputs": []
    },
    {
      "cell_type": "code",
      "source": [
        "print(generate_sentence(\"the\", num_words=10))"
      ],
      "metadata": {
        "colab": {
          "base_uri": "https://localhost:8080/"
        },
        "id": "1W__dNSKIgcn",
        "outputId": "e47a2fb9-6768-4f17-9190-056398b798dd"
      },
      "execution_count": 18,
      "outputs": [
        {
          "output_type": "stream",
          "name": "stdout",
          "text": [
            "the wife into the vessels were the conclusion not green\n"
          ]
        }
      ]
    },
    {
      "cell_type": "code",
      "source": [],
      "metadata": {
        "id": "g6Gy6D47IiXF"
      },
      "execution_count": null,
      "outputs": []
    }
  ]
}