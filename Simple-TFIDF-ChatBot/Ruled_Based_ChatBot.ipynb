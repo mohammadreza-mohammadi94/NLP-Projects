{
  "nbformat": 4,
  "nbformat_minor": 0,
  "metadata": {
    "colab": {
      "provenance": [],
      "authorship_tag": "ABX9TyOQZq17nww46C+C8t+zG7Rg",
      "include_colab_link": true
    },
    "kernelspec": {
      "name": "python3",
      "display_name": "Python 3"
    },
    "language_info": {
      "name": "python"
    }
  },
  "cells": [
    {
      "cell_type": "markdown",
      "metadata": {
        "id": "view-in-github",
        "colab_type": "text"
      },
      "source": [
        "<a href=\"https://colab.research.google.com/github/mohammadreza-mohammadi94/NLP-Projects/blob/main/Simple-TFIDF-ChatBot/Ruled_Based_ChatBot.ipynb\" target=\"_parent\"><img src=\"https://colab.research.google.com/assets/colab-badge.svg\" alt=\"Open In Colab\"/></a>"
      ]
    },
    {
      "cell_type": "markdown",
      "source": [
        "# 1. Import Libs"
      ],
      "metadata": {
        "id": "dDHrDNCObx4q"
      }
    },
    {
      "cell_type": "code",
      "source": [
        "import os\n",
        "import yaml\n",
        "import pandas as pd\n",
        "import numpy as np"
      ],
      "metadata": {
        "id": "YeSiSVwRbvOK"
      },
      "execution_count": 1,
      "outputs": []
    },
    {
      "cell_type": "markdown",
      "source": [
        "# 2. Download Dataset"
      ],
      "metadata": {
        "id": "WV2dJDtBbf06"
      }
    },
    {
      "cell_type": "code",
      "execution_count": null,
      "metadata": {
        "colab": {
          "base_uri": "https://localhost:8080/"
        },
        "id": "GO2didnmafn3",
        "outputId": "5850e5c5-ccc3-4004-bcc7-ddd4e841e162"
      },
      "outputs": [
        {
          "output_type": "stream",
          "name": "stderr",
          "text": [
            "Cloning into 'chatterbot-corpus'...\n"
          ]
        }
      ],
      "source": [
        "%%bash\n",
        "git clone https://github.com/gunthercox/chatterbot-corpus.git"
      ]
    },
    {
      "cell_type": "code",
      "source": [
        "# Load dataset\n",
        "PATH = r\"/content/chatterbot-corpus/chatterbot_corpus/data/english\"\n",
        "files = [f for f in os.listdir(PATH) if f.endswith('.yml')]"
      ],
      "metadata": {
        "id": "dJiC21E1alis"
      },
      "execution_count": null,
      "outputs": []
    },
    {
      "cell_type": "markdown",
      "source": [
        "## 2.1 Joining Data"
      ],
      "metadata": {
        "id": "xGiS2xSrcDGm"
      }
    },
    {
      "cell_type": "code",
      "source": [
        "conversations = []\n",
        "labels = []\n",
        "\n",
        "for file in files:\n",
        "    with open(os.path.join(PATH, file), \"r\", encoding='utf-8') as f:\n",
        "        data = yaml.safe_load(f)\n",
        "        if 'conversations' in data:\n",
        "            for conv in data['conversations']:\n",
        "                if isinstance(conv, list) and len(conv) >= 2:\n",
        "                    conversations.append(conv[0])\n",
        "                    labels.append(conv[1])"
      ],
      "metadata": {
        "id": "F0zQgadRb0at"
      },
      "execution_count": null,
      "outputs": []
    },
    {
      "cell_type": "markdown",
      "source": [
        "# 3. Preprocessing"
      ],
      "metadata": {
        "id": "Bb9Cc0OYdGR6"
      }
    },
    {
      "cell_type": "code",
      "source": [
        "%%bash\n",
        "# pip install contractions"
      ],
      "metadata": {
        "id": "P5IWPLrqvONb"
      },
      "execution_count": null,
      "outputs": []
    },
    {
      "cell_type": "code",
      "source": [
        "import os\n",
        "import re\n",
        "import nltk\n",
        "import spacy\n",
        "from nltk.corpus import stopwords\n",
        "import contractions"
      ],
      "metadata": {
        "id": "JJrn_mJutDAV"
      },
      "execution_count": null,
      "outputs": []
    },
    {
      "cell_type": "code",
      "source": [
        "%%bash\n",
        "python -m spacy download en_core_web_lg\n",
        "python -m spacy download en_core_web_md"
      ],
      "metadata": {
        "id": "_g6lMChCnCd7"
      },
      "execution_count": null,
      "outputs": []
    },
    {
      "cell_type": "code",
      "source": [
        "nltk.download('punkt_tab')\n",
        "nltk.download('stopwords')\n",
        "nlp = spacy.load(\"en_core_web_md\")\n",
        "\n",
        "stop_words = set(stopwords.words('english'))\n",
        "\n",
        "def expand_contractions(text):\n",
        "    return contractions.fix(text)\n",
        "\n",
        "def preprocess(text):\n",
        "    text = text.lower()\n",
        "    text = re.sub(r'\\W', ' ', text)\n",
        "    text = re.sub(r'\\s+', ' ', text)\n",
        "    doc = nlp(text)\n",
        "    return ' '.join([token.lemma_ for token in doc if token.is_alpha and token.text not in stop_words])\n",
        "\n",
        "preprocessed_conversations = [preprocess(text) for text in conversations]\n",
        "preprocessed_labels = [preprocess(text) for text in labels]"
      ],
      "metadata": {
        "colab": {
          "base_uri": "https://localhost:8080/"
        },
        "id": "A7XW9RwHmnzZ",
        "outputId": "f6b09f62-48aa-4b0b-89a0-22a86f70dbb2"
      },
      "execution_count": null,
      "outputs": [
        {
          "output_type": "stream",
          "name": "stderr",
          "text": [
            "[nltk_data] Downloading package punkt_tab to /root/nltk_data...\n",
            "[nltk_data]   Package punkt_tab is already up-to-date!\n",
            "[nltk_data] Downloading package stopwords to /root/nltk_data...\n",
            "[nltk_data]   Package stopwords is already up-to-date!\n"
          ]
        }
      ]
    },
    {
      "cell_type": "markdown",
      "source": [
        "## 3.1 Vectorization"
      ],
      "metadata": {
        "id": "USkHEK0VtGoQ"
      }
    },
    {
      "cell_type": "code",
      "source": [
        "from sklearn.feature_extraction.text import TfidfVectorizer\n",
        "from sklearn.metrics.pairwise import cosine_similarity"
      ],
      "metadata": {
        "id": "_zLgnRH9hk56"
      },
      "execution_count": null,
      "outputs": []
    },
    {
      "cell_type": "code",
      "source": [
        "vectorizer = TfidfVectorizer(max_features=5000, ngram_range=(1, 2))\n",
        "\n",
        "Q = vectorizer.fit_transform(preprocessed_conversations)\n",
        "A = vectorizer.transform(labels)"
      ],
      "metadata": {
        "id": "30KunVuBnbaN"
      },
      "execution_count": null,
      "outputs": []
    },
    {
      "cell_type": "code",
      "source": [
        "def get_response(user_input):\n",
        "    user_input = preprocess(user_input)\n",
        "    user_input_tfidf = vectorizer.transform([user_input])\n",
        "    similarities = cosine_similarity(user_input_tfidf, A)\n",
        "    best_match = similarities.argmax()\n",
        "    return labels[best_match]"
      ],
      "metadata": {
        "id": "SafIOII9l109"
      },
      "execution_count": null,
      "outputs": []
    },
    {
      "cell_type": "code",
      "source": [
        "inp = 'Hello'\n",
        "res = get_response(inp)\n",
        "print(res)"
      ],
      "metadata": {
        "colab": {
          "base_uri": "https://localhost:8080/"
        },
        "id": "IMUjhrgmpmJi",
        "outputId": "42579e23-ab37-4fcc-bbd5-c9fefde4a12a"
      },
      "execution_count": null,
      "outputs": [
        {
          "output_type": "stream",
          "name": "stdout",
          "text": [
            "Hello\n"
          ]
        }
      ]
    },
    {
      "cell_type": "code",
      "source": [
        "inp = 'How are you'\n",
        "res = get_response(inp)\n",
        "print(res)"
      ],
      "metadata": {
        "colab": {
          "base_uri": "https://localhost:8080/"
        },
        "id": "Jqsp1eq2rOVL",
        "outputId": "345ffc29-08ae-40f7-a580-260a9d350434"
      },
      "execution_count": null,
      "outputs": [
        {
          "output_type": "stream",
          "name": "stdout",
          "text": [
            "to me that's a great compliment.\n"
          ]
        }
      ]
    },
    {
      "cell_type": "code",
      "source": [
        "inp = 'what is AI'\n",
        "res = get_response(inp)\n",
        "print(res)"
      ],
      "metadata": {
        "colab": {
          "base_uri": "https://localhost:8080/"
        },
        "id": "dAKV5eQjrOSA",
        "outputId": "54085a8b-b048-4516-da6c-3170fd65932b"
      },
      "execution_count": null,
      "outputs": [
        {
          "output_type": "stream",
          "name": "stdout",
          "text": [
            "AI is the field of science which concerns itself with building hardware and software that replicates the functions of the human mind.\n"
          ]
        }
      ]
    },
    {
      "cell_type": "code",
      "source": [
        "inp = 'are you investing in stocks?'\n",
        "res = get_response(inp)\n",
        "print(res)"
      ],
      "metadata": {
        "colab": {
          "base_uri": "https://localhost:8080/"
        },
        "id": "SOVrgg_5sa5P",
        "outputId": "ed549fb1-1b92-4b52-8067-4c96553f41a6"
      },
      "execution_count": null,
      "outputs": [
        {
          "output_type": "stream",
          "name": "stdout",
          "text": [
            "my lawyer said i shouldn't give stock tips online.\n"
          ]
        }
      ]
    },
    {
      "cell_type": "code",
      "source": [],
      "metadata": {
        "id": "WKHrpoKix969"
      },
      "execution_count": null,
      "outputs": []
    }
  ]
}