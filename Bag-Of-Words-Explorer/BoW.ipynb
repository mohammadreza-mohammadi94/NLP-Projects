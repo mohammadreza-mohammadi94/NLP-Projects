{
  "nbformat": 4,
  "nbformat_minor": 0,
  "metadata": {
    "colab": {
      "provenance": [],
      "authorship_tag": "ABX9TyM+dUZtBrN9QuENRQWCSQM9",
      "include_colab_link": true
    },
    "kernelspec": {
      "name": "python3",
      "display_name": "Python 3"
    },
    "language_info": {
      "name": "python"
    }
  },
  "cells": [
    {
      "cell_type": "markdown",
      "metadata": {
        "id": "view-in-github",
        "colab_type": "text"
      },
      "source": [
        "<a href=\"https://colab.research.google.com/github/mohammadreza-mohammadi94/NLP-Projects/blob/main/Bag-Of-Words-Explorer/BoW.ipynb\" target=\"_parent\"><img src=\"https://colab.research.google.com/assets/colab-badge.svg\" alt=\"Open In Colab\"/></a>"
      ]
    },
    {
      "cell_type": "code",
      "execution_count": null,
      "metadata": {
        "id": "iKwuwo_U_-s8"
      },
      "outputs": [],
      "source": [
        "\"\"\"\n",
        "Bag of Words (BoW) Exploration Project\n",
        "\n",
        "This script implements different variations of the Bag of Words (BoW) technique\n",
        "on a small text corpus, including simple counting, binary, and N-Grams.\n",
        "It also examines the effect of stopword removal and compares the resulting matrices.\n",
        "\"\"\""
      ]
    },
    {
      "cell_type": "markdown",
      "source": [
        "# Import Libraries & Basic Setup"
      ],
      "metadata": {
        "id": "hDlJoN5YAEaz"
      }
    },
    {
      "cell_type": "code",
      "source": [
        "import pandas as pd\n",
        "import numpy as np\n",
        "from sklearn.feature_extraction.text import CountVectorizer\n",
        "\n",
        "from typing import List, Dict, Optional\n",
        "import matplotlib.pyplot as plt\n",
        "import seaborn as sns"
      ],
      "metadata": {
        "id": "90u1QVKuAECE"
      },
      "execution_count": 3,
      "outputs": []
    },
    {
      "cell_type": "code",
      "source": [
        "import logging\n",
        "\n",
        "# Setup logging\n",
        "logging.basicConfig(level=logging.INFO,\n",
        "                    format=\"%*(asctime)s - %(levelname)s - %(message)s\")\n",
        "logger = logging.getLogger(__name__)"
      ],
      "metadata": {
        "id": "abjNtUtYAWDu"
      },
      "execution_count": 4,
      "outputs": []
    },
    {
      "cell_type": "code",
      "source": [
        "import warnings\n",
        "warnings.filterwarnings('ignore')"
      ],
      "metadata": {
        "id": "kb0LqrHHAtP2"
      },
      "execution_count": 5,
      "outputs": []
    },
    {
      "cell_type": "markdown",
      "source": [
        "# Bag Of Words Class"
      ],
      "metadata": {
        "id": "gZcLH6YHAyWU"
      }
    },
    {
      "cell_type": "code",
      "source": [
        "class BoWExplorer:\n",
        "    def __init__(self, corpus: List[str]):\n",
        "        \"\"\"\n",
        "        Initialize with a text corpus.\n",
        "\n",
        "        Args:\n",
        "            corpus (List[str]): List of text documents.\n",
        "        \"\"\"\n",
        "        if not corpus or not all(isinstance(doc, str) for doc in corpus):\n",
        "            raise ValueError(\"Corpus must be non-empty list of strings.\")\n",
        "        self.corpus = corpus\n",
        "        self.results = {}\n",
        "\n",
        "    def apply_bow(self,\n",
        "                  binary: bool = False,\n",
        "                  ngram_range: tuple = (1, 1),\n",
        "                  stop_words: Optional[str] = None) -> Dict[str, np.ndarray]:\n",
        "        \"\"\"\n",
        "        Apply BoW with specified parameters.\n",
        "\n",
        "        Args:\n",
        "            binary (bool): Whether to use binary BoW (default: False).\n",
        "            ngram_range (tuple): Range of n-grams (e.g., (1, 2) for unigrams and bigrams).\n",
        "            stop_words (str, optional): Language for stopword removal (e.g., 'english').\n",
        "\n",
        "        Returns:\n",
        "            Dict[str, np.ndarray]: Vocabulary and BoW matrix.\n",
        "        \"\"\"\n",
        "        try:\n",
        "            vectorizer = CountVectorizer(\n",
        "                binary = binary,\n",
        "                ngram_range = ngram_range,\n",
        "                stop_words = stop_words)\n",
        "            bow_matrix = vectorizer.fit_transform(self.corpus)\n",
        "            result = {\n",
        "                'VOCABULARY': vectorizer.get_feature_names_out(),\n",
        "                'MATRIX': bow_matrix.toarray()\n",
        "            }\n",
        "            logger.info(f\"BoW Applied: binary={binary}, ngram_range={ngram_range}, stop_words={stop_words}\")\n",
        "            return result\n",
        "        except Exception as e:\n",
        "            logger.error(f\"Error in applying BoW: {e}\")\n",
        "            return {'vocabulary': np.array([]), 'matrix': np.array([])}\n",
        "\n",
        "    def run_experiments(self):\n",
        "        \"\"\"Run all BoW experiments and store results.\"\"\"\n",
        "        self.results['simple_count'] = self.apply_bow(binary=False)                                    # Simple Count BoW\n",
        "        self.results['binary'] = self.apply_bow(binary=True)                                           # Binary BoW\n",
        "        self.results['ngrams'] = self.apply_bow(ngram_range=(1, 2))                                    # N-Grams BoW (unigrams and bigrams)\n",
        "        self.results['simple_no_stopwords'] = self.apply_bow(binary=False, stop_words='english')       # Simple Count BoW with Stopword Removal\n",
        "\n",
        "    def display_results(self) -> None:\n",
        "        \"\"\"Display BoW matrices as DataFrames.\"\"\"\n",
        "        for method, result in self.results.items():\n",
        "            if result['VOCABULARY'].size == 0:\n",
        "                logger.warning(f\"No results for {method}\")\n",
        "                continue\n",
        "            df = pd.DataFrame(\n",
        "                result['MATRIX'],\n",
        "                columns=result['VOCABULARY'],\n",
        "                index=[f\"Doc {i+1}\" for i in range(len(self.corpus))]\n",
        "            )\n",
        "            print(f\"\\n{method.replace('_', ' ').title()} BoW Matrix:\")\n",
        "            print(df.to_string())\n",
        "            logger.info(f\"Displayed {method} matrix with vocab size: {len(result['VOCABULARY'])}\")\n",
        "\n",
        "    def compare_sparsity(self) -> None:\n",
        "        \"\"\"Compare sparsity of BoW matrices and visualize.\"\"\"\n",
        "        sparsity_data = {}\n",
        "        for method, result in self.results.items():\n",
        "            if result['MATRIX'].size == 0:\n",
        "                continue\n",
        "            total_elements = result['MATRIX'].size\n",
        "            non_zero_elements = np.count_nonzero(result['MATRIX'])\n",
        "            sparsity = 1 - (non_zero_elements / total_elements)\n",
        "            sparsity_data[method] = sparsity\n",
        "\n",
        "        # Visualization\n",
        "        plt.figure(figsize=(10, 5))\n",
        "        sns.barplot(x=list(sparsity_data.keys()), y=list(sparsity_data.values()), palette='viridis')\n",
        "        plt.title('Sparsity Comparison Across BoW Methods', fontsize=15, fontweight='bold')\n",
        "        plt.xlabel('BoW Method')\n",
        "        plt.ylabel('Sparsity (Fraction of Zeros)')\n",
        "        plt.xticks(rotation=45)\n",
        "        plt.tight_layout()\n",
        "        plt.savefig('sparsity_comparison.png')\n",
        "        plt.show()\n",
        "        logger.info(\"Sparsity comparison plotted\")\n",
        "\n",
        "    def save_results(self, filepath: str = \"bow_results.csv\") -> None:\n",
        "        \"\"\"Save all BoW matrices to a CSV file.\"\"\"\n",
        "        combined_data = {}\n",
        "        for method, result in self.results.items():\n",
        "            if result['MATRIX'].size == 0:\n",
        "                continue\n",
        "            for i, row in enumerate(result['MATRIX']):\n",
        "                key = f\"Doc {i+1} - {method}\"\n",
        "                combined_data[key] = pd.Series(row, index=result['VOCABULARY'])\n",
        "\n",
        "        df = pd.DataFrame(combined_data).T\n",
        "        df.to_csv(filepath, index_label='Document_Method')\n",
        "        logger.info(f\"Results saved to {filepath}\")"
      ],
      "metadata": {
        "id": "KSOrH7qqAyDr"
      },
      "execution_count": 15,
      "outputs": []
    },
    {
      "cell_type": "code",
      "source": [
        "def main():\n",
        "    \"\"\"Main function to execute the BoW exploration project.\"\"\"\n",
        "    # Step 1: Create a small text corpus\n",
        "    corpus = [\n",
        "        \"The cat sleeps quietly in the room\",\n",
        "        \"The dog runs fast outside\",\n",
        "        \"Cats love to sleep all day\",\n",
        "        \"Dogs chase cats in the park\",\n",
        "        \"The room is quiet and peaceful\"\n",
        "    ]\n",
        "    logger.info(f\"Corpus created with {len(corpus)} documents\")\n",
        "\n",
        "    # Initialize BoWExplorer\n",
        "    explorer = BoWExplorer(corpus)\n",
        "    # Run experiments\n",
        "    explorer.run_experiments()\n",
        "    # Display results\n",
        "    explorer.display_results()\n",
        "    # Compare sparsity\n",
        "    explorer.compare_sparsity()\n",
        "    # Save results\n",
        "    explorer.save_results(\"bow_results.csv\")\n",
        "\n",
        "main()"
      ],
      "metadata": {
        "colab": {
          "base_uri": "https://localhost:8080/",
          "height": 1000
        },
        "id": "90i-vVSOBip2",
        "outputId": "aa7dea8f-f391-47c8-cc8c-0afd635571ef"
      },
      "execution_count": 16,
      "outputs": [
        {
          "output_type": "stream",
          "name": "stdout",
          "text": [
            "\n",
            "Simple Count BoW Matrix:\n",
            "       all  and  cat  cats  chase  day  dog  dogs  fast  in  is  love  outside  park  peaceful  quiet  quietly  room  runs  sleep  sleeps  the  to\n",
            "Doc 1    0    0    1     0      0    0    0     0     0   1   0     0        0     0         0      0        1     1     0      0       1    2   0\n",
            "Doc 2    0    0    0     0      0    0    1     0     1   0   0     0        1     0         0      0        0     0     1      0       0    1   0\n",
            "Doc 3    1    0    0     1      0    1    0     0     0   0   0     1        0     0         0      0        0     0     0      1       0    0   1\n",
            "Doc 4    0    0    0     1      1    0    0     1     0   1   0     0        0     1         0      0        0     0     0      0       0    1   0\n",
            "Doc 5    0    1    0     0      0    0    0     0     0   0   1     0        0     0         1      1        0     1     0      0       0    1   0\n",
            "\n",
            "Binary BoW Matrix:\n",
            "       all  and  cat  cats  chase  day  dog  dogs  fast  in  is  love  outside  park  peaceful  quiet  quietly  room  runs  sleep  sleeps  the  to\n",
            "Doc 1    0    0    1     0      0    0    0     0     0   1   0     0        0     0         0      0        1     1     0      0       1    1   0\n",
            "Doc 2    0    0    0     0      0    0    1     0     1   0   0     0        1     0         0      0        0     0     1      0       0    1   0\n",
            "Doc 3    1    0    0     1      0    1    0     0     0   0   0     1        0     0         0      0        0     0     0      1       0    0   1\n",
            "Doc 4    0    0    0     1      1    0    0     1     0   1   0     0        0     1         0      0        0     0     0      0       0    1   0\n",
            "Doc 5    0    1    0     0      0    0    0     0     0   0   1     0        0     0         1      1        0     1     0      0       0    1   0\n",
            "\n",
            "Ngrams BoW Matrix:\n",
            "       all  all day  and  and peaceful  cat  cat sleeps  cats  cats in  cats love  chase  chase cats  day  dog  dog runs  dogs  dogs chase  fast  fast outside  in  in the  is  is quiet  love  love to  outside  park  peaceful  quiet  quiet and  quietly  quietly in  room  room is  runs  runs fast  sleep  sleep all  sleeps  sleeps quietly  the  the cat  the dog  the park  the room  to  to sleep\n",
            "Doc 1    0        0    0             0    1           1     0        0          0      0           0    0    0         0     0           0     0             0   1       1   0         0     0        0        0     0         0      0          0        1           1     1        0     0          0      0          0       1               1    2        1        0         0         1   0         0\n",
            "Doc 2    0        0    0             0    0           0     0        0          0      0           0    0    1         1     0           0     1             1   0       0   0         0     0        0        1     0         0      0          0        0           0     0        0     1          1      0          0       0               0    1        0        1         0         0   0         0\n",
            "Doc 3    1        1    0             0    0           0     1        0          1      0           0    1    0         0     0           0     0             0   0       0   0         0     1        1        0     0         0      0          0        0           0     0        0     0          0      1          1       0               0    0        0        0         0         0   1         1\n",
            "Doc 4    0        0    0             0    0           0     1        1          0      1           1    0    0         0     1           1     0             0   1       1   0         0     0        0        0     1         0      0          0        0           0     0        0     0          0      0          0       0               0    1        0        0         1         0   0         0\n",
            "Doc 5    0        0    1             1    0           0     0        0          0      0           0    0    0         0     0           0     0             0   0       0   1         1     0        0        0     0         1      1          1        0           0     1        1     0          0      0          0       0               0    1        0        0         0         1   0         0\n",
            "\n",
            "Simple No Stopwords BoW Matrix:\n",
            "       cat  cats  chase  day  dog  dogs  fast  love  outside  park  peaceful  quiet  quietly  room  runs  sleep  sleeps\n",
            "Doc 1    1     0      0    0    0     0     0     0        0     0         0      0        1     1     0      0       1\n",
            "Doc 2    0     0      0    0    1     0     1     0        1     0         0      0        0     0     1      0       0\n",
            "Doc 3    0     1      0    1    0     0     0     1        0     0         0      0        0     0     0      1       0\n",
            "Doc 4    0     1      1    0    0     1     0     0        0     1         0      0        0     0     0      0       0\n",
            "Doc 5    0     0      0    0    0     0     0     0        0     0         1      1        0     1     0      0       0\n"
          ]
        },
        {
          "output_type": "display_data",
          "data": {
            "text/plain": [
              "<Figure size 1000x500 with 1 Axes>"
            ],
            "image/png": "[encoded data removed]"
          },
          "metadata": {}
        }
      ]
    },
    {
      "cell_type": "code",
      "source": [],
      "metadata": {
        "id": "Dh8QOzmGDUTO"
      },
      "execution_count": null,
      "outputs": []
    }
  ]
}