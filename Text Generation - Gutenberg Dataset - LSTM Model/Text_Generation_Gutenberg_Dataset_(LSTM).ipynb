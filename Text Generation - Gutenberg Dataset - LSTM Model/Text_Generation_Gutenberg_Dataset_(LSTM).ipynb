{
  "nbformat": 4,
  "nbformat_minor": 0,
  "metadata": {
    "colab": {
      "provenance": [],
      "gpuType": "T4",
      "authorship_tag": "ABX9TyMllQV1UxpR+F29R8KOXf8Q",
      "include_colab_link": true
    },
    "kernelspec": {
      "name": "python3",
      "display_name": "Python 3"
    },
    "language_info": {
      "name": "python"
    },
    "accelerator": "GPU"
  },
  "cells": [
    {
      "cell_type": "markdown",
      "metadata": {
        "id": "view-in-github",
        "colab_type": "text"
      },
      "source": [
        "<a href=\"https://colab.research.google.com/github/mohammadreza-mohammadi94/NLP-Projects/blob/main/Text%20Generation%20-%20Gutenberg%20Dataset%20-%20LSTM%20Model/Text_Generation_Gutenberg_Dataset_(LSTM).ipynb\" target=\"_parent\"><img src=\"https://colab.research.google.com/assets/colab-badge.svg\" alt=\"Open In Colab\"/></a>"
      ]
    },
    {
      "cell_type": "markdown",
      "source": [
        "# Import Libs & Setup Project"
      ],
      "metadata": {
        "id": "nyB3j2GxIv9g"
      }
    },
    {
      "cell_type": "code",
      "source": [
        "# !pip install -q tensorflow"
      ],
      "metadata": {
        "id": "gOXanRv7PV6J"
      },
      "execution_count": null,
      "outputs": []
    },
    {
      "cell_type": "code",
      "execution_count": null,
      "metadata": {
        "id": "BMeXILCwG-Xa"
      },
      "outputs": [],
      "source": [
        "# Import Libraries\n",
        "import numpy as np\n",
        "import tensorflow as tf\n",
        "from tensorflow.keras.models import Sequential\n",
        "from tensorflow.keras.layers import LSTM, Dense, Embedding, Dropout\n",
        "from tensorflow.keras.callbacks import ReduceLROnPlateau, ModelCheckpoint\n",
        "import matplotlib.pyplot as plt\n",
        "import requests\n",
        "import re\n",
        "\n",
        "# Filter warnings\n",
        "import warnings\n",
        "warnings.filterwarnings('ignore')\n",
        "\n",
        "# Setup logger\n",
        "import logging\n",
        "logging.basicConfig(\n",
        "    level=logging.INFO,\n",
        "    format='%(asctime)s-%(levelname)s-%(name)s-%(message)s',\n",
        "    handlers=[\n",
        "        logging.FileHandler('app.log'),\n",
        "        logging.StreamHandler()\n",
        "    ]\n",
        ")\n",
        "\n",
        "logger = logging.getLogger(__name__)\n",
        "logger.info(\"Logger started...\")"
      ]
    },
    {
      "cell_type": "markdown",
      "source": [
        "# Import Dataset & Preprocessing"
      ],
      "metadata": {
        "id": "SXF1lIUQIyK-"
      }
    },
    {
      "cell_type": "code",
      "source": [
        "# Download dataset\n",
        "try:\n",
        "    logger.info(\"Downloading dataset...\")\n",
        "    url = \"https://www.gutenberg.org/files/11/11-0.txt\"\n",
        "    response = requests.get(url)\n",
        "    text = response.text\n",
        "except Exception as e:\n",
        "    logger.error(f\"Error downloading dataset: {e}\")\n",
        "    raise"
      ],
      "metadata": {
        "id": "j5HkS0xvINWp"
      },
      "execution_count": null,
      "outputs": []
    },
    {
      "cell_type": "code",
      "source": [
        "# Preprocessing\n",
        "\n",
        "# Clean text: keep only valid characters (letters, numbers, common punctuation)\n",
        "def clean_text(text):\n",
        "    # Convert to lowercase\n",
        "    text = text.lower()\n",
        "    # Remove invalid characters, keep alphanumeric and common punctuation\n",
        "    text = re.sub(r'[^\\w\\s.,!?-]', '', text)\n",
        "    return text\n",
        "\n",
        "try:\n",
        "    logger.info(\"Starting preprocessing...\")\n",
        "    text = clean_text(text)\n",
        "\n",
        "    # Create vocabulary: all unique characters\n",
        "    chars = sorted(list(set(text)))\n",
        "    vocab_size = len(chars)\n",
        "    print(f\"Vocabulary Size: {vocab_size}\")\n",
        "    logger.info(f\"Vocabulary Size: {vocab_size}\")\n",
        "\n",
        "    # Create mappings: character to index and index to character\n",
        "    chars_to_idx = {c: i for i, c in enumerate(chars)}\n",
        "    idx_to_chars = {i: c for i, c in enumerate(chars)}\n",
        "\n",
        "    # Debug: ensure idx_to_chars covers all indices from 0 to vocab_size-1\n",
        "    for i in range(vocab_size):\n",
        "        if i not in idx_to_chars:\n",
        "            logger.error(f\"Index {i} missing in idx_to_chars\")\n",
        "            raise ValueError(f\"Index {i} missing in idx_to_chars\")\n",
        "except Exception as e:\n",
        "    logger.error(f\"Error during preprocessing: {e}\")\n",
        "    raise"
      ],
      "metadata": {
        "colab": {
          "base_uri": "https://localhost:8080/"
        },
        "id": "wlBjMTPWI36I",
        "outputId": "5f5781e0-fed1-4b09-8f53-85c87a84a3b3"
      },
      "execution_count": null,
      "outputs": [
        {
          "output_type": "stream",
          "name": "stdout",
          "text": [
            "Vocabulary Size: 39\n"
          ]
        }
      ]
    },
    {
      "cell_type": "code",
      "source": [
        "# Creating Sequences\n",
        "try:\n",
        "    SEQ_LEN = 40  # Sequence length (input_length for Embedding)\n",
        "    logger.info(\"Creating sequences...\")\n",
        "\n",
        "    X, y = [], []\n",
        "    for i in range(0, len(text) - SEQ_LEN, 1):\n",
        "        seq_in = text[i:i + SEQ_LEN]  # SEQ_LEN characters\n",
        "        seq_out = text[i + SEQ_LEN]   # Next character\n",
        "        X.append([chars_to_idx[c] for c in seq_in])\n",
        "        y.append(chars_to_idx[seq_out])\n",
        "        # Log first few sequences for debugging\n",
        "        if i < 3:\n",
        "            logger.info(f\"Sequence: {seq_in} -> {seq_out}\")\n",
        "\n",
        "    # Convert to arrays\n",
        "    X = np.array(X)\n",
        "    y = tf.keras.utils.to_categorical(y, num_classes=vocab_size)\n",
        "\n",
        "    # Check shapes\n",
        "    print(f\"X Shape: {X.shape}, y Shape: {y.shape}\")\n",
        "    logger.info(f\"X Shape: {X.shape}, y Shape: {y.shape}\")\n",
        "    # Dimensions:\n",
        "    # X: [num_sequences, SEQ_LEN]\n",
        "    # - num_sequences = len(text) - SEQ_LEN\n",
        "    # - SEQ_LEN=40 (input sequence length)\n",
        "    # y: [num_sequences, vocab_size]\n",
        "    # - vocab_size: number of unique characters (e.g., 60)\n",
        "except Exception as e:\n",
        "    logger.error(f\"Error creating sequences: {e}\")\n",
        "    raise"
      ],
      "metadata": {
        "colab": {
          "base_uri": "https://localhost:8080/"
        },
        "id": "zJDdGHbSJaQU",
        "outputId": "bc257fc0-a195-4a7e-d2c3-7a6eac65284e"
      },
      "execution_count": null,
      "outputs": [
        {
          "output_type": "stream",
          "name": "stdout",
          "text": [
            "X Shape: (144177, 40), y Shape: (144177, 39)\n"
          ]
        }
      ]
    },
    {
      "cell_type": "markdown",
      "source": [
        "# Define Model"
      ],
      "metadata": {
        "id": "m_66389LMdJw"
      }
    },
    {
      "cell_type": "code",
      "source": [
        "# Model\n",
        "model = Sequential([\n",
        "    Embedding(vocab_size, 64, input_length=SEQ_LEN, input_shape=(SEQ_LEN,)),\n",
        "    LSTM(128, return_sequences=True, recurrent_dropout=0.2),\n",
        "    Dropout(0.2),\n",
        "    LSTM(128, recurrent_dropout=0.2),\n",
        "    Dropout(0.2),\n",
        "    Dense(vocab_size, activation='softmax')\n",
        "])\n",
        "\n",
        "# Define optimizers & loss func\n",
        "optimizer = tf.keras.optimizers.Adam(clipnorm=1.0)\n",
        "loss = tf.keras.losses.CategoricalCrossentropy()\n",
        "\n",
        "# Compile model\n",
        "model.compile(optimizer=optimizer,\n",
        "              loss=loss,\n",
        "              metrics=['accuracy'])\n",
        "\n",
        "# Check Summary\n",
        "model.summary()"
      ],
      "metadata": {
        "colab": {
          "base_uri": "https://localhost:8080/",
          "height": 340
        },
        "id": "-kMTuNKlKMBv",
        "outputId": "28c61c56-a31d-48e5-8895-3e833b5bda40"
      },
      "execution_count": null,
      "outputs": [
        {
          "output_type": "display_data",
          "data": {
            "text/plain": [
              "\u001b[1mModel: \"sequential_2\"\u001b[0m\n"
            ],
            "text/html": [
              "<pre style=\"white-space:pre;overflow-x:auto;line-height:normal;font-family:Menlo,'DejaVu Sans Mono',consolas,'Courier New',monospace\"><span style=\"font-weight: bold\">Model: \"sequential_2\"</span>\n",
              "</pre>\n"
            ]
          },
          "metadata": {}
        },
        {
          "output_type": "display_data",
          "data": {
            "text/plain": [
              "┏━━━━━━━━━━━━━━━━━━━━━━━━━━━━━━━━━┳━━━━━━━━━━━━━━━━━━━━━━━━┳━━━━━━━━━━━━━━━┓\n",
              "┃\u001b[1m \u001b[0m\u001b[1mLayer (type)                   \u001b[0m\u001b[1m \u001b[0m┃\u001b[1m \u001b[0m\u001b[1mOutput Shape          \u001b[0m\u001b[1m \u001b[0m┃\u001b[1m \u001b[0m\u001b[1m      Param #\u001b[0m\u001b[1m \u001b[0m┃\n",
              "┡━━━━━━━━━━━━━━━━━━━━━━━━━━━━━━━━━╇━━━━━━━━━━━━━━━━━━━━━━━━╇━━━━━━━━━━━━━━━┩\n",
              "│ embedding_2 (\u001b[38;5;33mEmbedding\u001b[0m)         │ (\u001b[38;5;45mNone\u001b[0m, \u001b[38;5;34m40\u001b[0m, \u001b[38;5;34m64\u001b[0m)         │         \u001b[38;5;34m2,496\u001b[0m │\n",
              "├─────────────────────────────────┼────────────────────────┼───────────────┤\n",
              "│ lstm_4 (\u001b[38;5;33mLSTM\u001b[0m)                   │ (\u001b[38;5;45mNone\u001b[0m, \u001b[38;5;34m40\u001b[0m, \u001b[38;5;34m128\u001b[0m)        │        \u001b[38;5;34m98,816\u001b[0m │\n",
              "├─────────────────────────────────┼────────────────────────┼───────────────┤\n",
              "│ dropout_4 (\u001b[38;5;33mDropout\u001b[0m)             │ (\u001b[38;5;45mNone\u001b[0m, \u001b[38;5;34m40\u001b[0m, \u001b[38;5;34m128\u001b[0m)        │             \u001b[38;5;34m0\u001b[0m │\n",
              "├─────────────────────────────────┼────────────────────────┼───────────────┤\n",
              "│ lstm_5 (\u001b[38;5;33mLSTM\u001b[0m)                   │ (\u001b[38;5;45mNone\u001b[0m, \u001b[38;5;34m128\u001b[0m)            │       \u001b[38;5;34m131,584\u001b[0m │\n",
              "├─────────────────────────────────┼────────────────────────┼───────────────┤\n",
              "│ dropout_5 (\u001b[38;5;33mDropout\u001b[0m)             │ (\u001b[38;5;45mNone\u001b[0m, \u001b[38;5;34m128\u001b[0m)            │             \u001b[38;5;34m0\u001b[0m │\n",
              "├─────────────────────────────────┼────────────────────────┼───────────────┤\n",
              "│ dense_2 (\u001b[38;5;33mDense\u001b[0m)                 │ (\u001b[38;5;45mNone\u001b[0m, \u001b[38;5;34m39\u001b[0m)             │         \u001b[38;5;34m5,031\u001b[0m │\n",
              "└─────────────────────────────────┴────────────────────────┴───────────────┘\n"
            ],
            "text/html": [
              "<pre style=\"white-space:pre;overflow-x:auto;line-height:normal;font-family:Menlo,'DejaVu Sans Mono',consolas,'Courier New',monospace\">┏━━━━━━━━━━━━━━━━━━━━━━━━━━━━━━━━━┳━━━━━━━━━━━━━━━━━━━━━━━━┳━━━━━━━━━━━━━━━┓\n",
              "┃<span style=\"font-weight: bold\"> Layer (type)                    </span>┃<span style=\"font-weight: bold\"> Output Shape           </span>┃<span style=\"font-weight: bold\">       Param # </span>┃\n",
              "┡━━━━━━━━━━━━━━━━━━━━━━━━━━━━━━━━━╇━━━━━━━━━━━━━━━━━━━━━━━━╇━━━━━━━━━━━━━━━┩\n",
              "│ embedding_2 (<span style=\"color: #0087ff; text-decoration-color: #0087ff\">Embedding</span>)         │ (<span style=\"color: #00d7ff; text-decoration-color: #00d7ff\">None</span>, <span style=\"color: #00af00; text-decoration-color: #00af00\">40</span>, <span style=\"color: #00af00; text-decoration-color: #00af00\">64</span>)         │         <span style=\"color: #00af00; text-decoration-color: #00af00\">2,496</span> │\n",
              "├─────────────────────────────────┼────────────────────────┼───────────────┤\n",
              "│ lstm_4 (<span style=\"color: #0087ff; text-decoration-color: #0087ff\">LSTM</span>)                   │ (<span style=\"color: #00d7ff; text-decoration-color: #00d7ff\">None</span>, <span style=\"color: #00af00; text-decoration-color: #00af00\">40</span>, <span style=\"color: #00af00; text-decoration-color: #00af00\">128</span>)        │        <span style=\"color: #00af00; text-decoration-color: #00af00\">98,816</span> │\n",
              "├─────────────────────────────────┼────────────────────────┼───────────────┤\n",
              "│ dropout_4 (<span style=\"color: #0087ff; text-decoration-color: #0087ff\">Dropout</span>)             │ (<span style=\"color: #00d7ff; text-decoration-color: #00d7ff\">None</span>, <span style=\"color: #00af00; text-decoration-color: #00af00\">40</span>, <span style=\"color: #00af00; text-decoration-color: #00af00\">128</span>)        │             <span style=\"color: #00af00; text-decoration-color: #00af00\">0</span> │\n",
              "├─────────────────────────────────┼────────────────────────┼───────────────┤\n",
              "│ lstm_5 (<span style=\"color: #0087ff; text-decoration-color: #0087ff\">LSTM</span>)                   │ (<span style=\"color: #00d7ff; text-decoration-color: #00d7ff\">None</span>, <span style=\"color: #00af00; text-decoration-color: #00af00\">128</span>)            │       <span style=\"color: #00af00; text-decoration-color: #00af00\">131,584</span> │\n",
              "├─────────────────────────────────┼────────────────────────┼───────────────┤\n",
              "│ dropout_5 (<span style=\"color: #0087ff; text-decoration-color: #0087ff\">Dropout</span>)             │ (<span style=\"color: #00d7ff; text-decoration-color: #00d7ff\">None</span>, <span style=\"color: #00af00; text-decoration-color: #00af00\">128</span>)            │             <span style=\"color: #00af00; text-decoration-color: #00af00\">0</span> │\n",
              "├─────────────────────────────────┼────────────────────────┼───────────────┤\n",
              "│ dense_2 (<span style=\"color: #0087ff; text-decoration-color: #0087ff\">Dense</span>)                 │ (<span style=\"color: #00d7ff; text-decoration-color: #00d7ff\">None</span>, <span style=\"color: #00af00; text-decoration-color: #00af00\">39</span>)             │         <span style=\"color: #00af00; text-decoration-color: #00af00\">5,031</span> │\n",
              "└─────────────────────────────────┴────────────────────────┴───────────────┘\n",
              "</pre>\n"
            ]
          },
          "metadata": {}
        },
        {
          "output_type": "display_data",
          "data": {
            "text/plain": [
              "\u001b[1m Total params: \u001b[0m\u001b[38;5;34m237,927\u001b[0m (929.40 KB)\n"
            ],
            "text/html": [
              "<pre style=\"white-space:pre;overflow-x:auto;line-height:normal;font-family:Menlo,'DejaVu Sans Mono',consolas,'Courier New',monospace\"><span style=\"font-weight: bold\"> Total params: </span><span style=\"color: #00af00; text-decoration-color: #00af00\">237,927</span> (929.40 KB)\n",
              "</pre>\n"
            ]
          },
          "metadata": {}
        },
        {
          "output_type": "display_data",
          "data": {
            "text/plain": [
              "\u001b[1m Trainable params: \u001b[0m\u001b[38;5;34m237,927\u001b[0m (929.40 KB)\n"
            ],
            "text/html": [
              "<pre style=\"white-space:pre;overflow-x:auto;line-height:normal;font-family:Menlo,'DejaVu Sans Mono',consolas,'Courier New',monospace\"><span style=\"font-weight: bold\"> Trainable params: </span><span style=\"color: #00af00; text-decoration-color: #00af00\">237,927</span> (929.40 KB)\n",
              "</pre>\n"
            ]
          },
          "metadata": {}
        },
        {
          "output_type": "display_data",
          "data": {
            "text/plain": [
              "\u001b[1m Non-trainable params: \u001b[0m\u001b[38;5;34m0\u001b[0m (0.00 B)\n"
            ],
            "text/html": [
              "<pre style=\"white-space:pre;overflow-x:auto;line-height:normal;font-family:Menlo,'DejaVu Sans Mono',consolas,'Courier New',monospace\"><span style=\"font-weight: bold\"> Non-trainable params: </span><span style=\"color: #00af00; text-decoration-color: #00af00\">0</span> (0.00 B)\n",
              "</pre>\n"
            ]
          },
          "metadata": {}
        }
      ]
    },
    {
      "cell_type": "code",
      "source": [
        "# Define Callbacks\n",
        "reduce_lr = ReduceLROnPlateau(\n",
        "    monitor='loss',\n",
        "    factor=0.2,\n",
        "    patience=5,\n",
        "    min_lr = 0.001\n",
        ")\n",
        "\n",
        "# Define Check points\n",
        "checkpoint = ModelCheckpoint(\n",
        "    'model.h5',\n",
        "    monitor='val_loss',\n",
        "    save_best_only=True,\n",
        ")"
      ],
      "metadata": {
        "id": "8tk08IFcNNbG"
      },
      "execution_count": null,
      "outputs": []
    },
    {
      "cell_type": "code",
      "source": [
        "# Train the Model\n",
        "history = model.fit(\n",
        "    X, y,\n",
        "    epochs=50,\n",
        "    batch_size=256,\n",
        "    callbacks=[reduce_lr, checkpoint],\n",
        "    verbose=1\n",
        ")"
      ],
      "metadata": {
        "colab": {
          "base_uri": "https://localhost:8080/"
        },
        "id": "mtAuTpHdOLkk",
        "outputId": "4f4ce859-0b55-461d-f34f-02de244200e7"
      },
      "execution_count": null,
      "outputs": [
        {
          "output_type": "stream",
          "name": "stdout",
          "text": [
            "Epoch 1/50\n",
            "\u001b[1m564/564\u001b[0m \u001b[32m━━━━━━━━━━━━━━━━━━━━\u001b[0m\u001b[37m\u001b[0m \u001b[1m128s\u001b[0m 216ms/step - accuracy: 0.2116 - loss: 2.8848 - learning_rate: 0.0010\n",
            "Epoch 2/50\n",
            "\u001b[1m564/564\u001b[0m \u001b[32m━━━━━━━━━━━━━━━━━━━━\u001b[0m\u001b[37m\u001b[0m \u001b[1m141s\u001b[0m 216ms/step - accuracy: 0.3802 - loss: 2.1356 - learning_rate: 0.0010\n",
            "Epoch 3/50\n",
            "\u001b[1m564/564\u001b[0m \u001b[32m━━━━━━━━━━━━━━━━━━━━\u001b[0m\u001b[37m\u001b[0m \u001b[1m143s\u001b[0m 217ms/step - accuracy: 0.4266 - loss: 1.9672 - learning_rate: 0.0010\n",
            "Epoch 4/50\n",
            "\u001b[1m564/564\u001b[0m \u001b[32m━━━━━━━━━━━━━━━━━━━━\u001b[0m\u001b[37m\u001b[0m \u001b[1m141s\u001b[0m 216ms/step - accuracy: 0.4579 - loss: 1.8534 - learning_rate: 0.0010\n",
            "Epoch 5/50\n",
            "\u001b[1m564/564\u001b[0m \u001b[32m━━━━━━━━━━━━━━━━━━━━\u001b[0m\u001b[37m\u001b[0m \u001b[1m142s\u001b[0m 216ms/step - accuracy: 0.4778 - loss: 1.7772 - learning_rate: 0.0010\n",
            "Epoch 6/50\n",
            "\u001b[1m564/564\u001b[0m \u001b[32m━━━━━━━━━━━━━━━━━━━━\u001b[0m\u001b[37m\u001b[0m \u001b[1m122s\u001b[0m 216ms/step - accuracy: 0.4931 - loss: 1.7168 - learning_rate: 0.0010\n",
            "Epoch 7/50\n",
            "\u001b[1m225/564\u001b[0m \u001b[32m━━━━━━━\u001b[0m\u001b[37m━━━━━━━━━━━━━\u001b[0m \u001b[1m1:12\u001b[0m 215ms/step - accuracy: 0.5033 - loss: 1.6727"
          ]
        }
      ]
    },
    {
      "cell_type": "markdown",
      "source": [
        "# Loss & Accuracy Plot"
      ],
      "metadata": {
        "id": "hAqgXgTnOZvi"
      }
    },
    {
      "cell_type": "code",
      "source": [
        "# Loss\n",
        "plt.figure(figsize=(12, 4))\n",
        "plt.subplot(1, 2, 1)\n",
        "plt.plot(history.history['loss'], label='Train Loss')\n",
        "plt.title(\"Loss Curve\")\n",
        "plt.xlabel('Epoch')\n",
        "plt.ylabel(\"Loss\")\n",
        "plt.legend()\n",
        "\n",
        "# Accuracy\n",
        "plt.subplot(1, 2, 2)\n",
        "plt.plot(history.history['accuracy'], label='Train Accuracy')\n",
        "plt.title(\"Accuracy Curve\")\n",
        "plt.xlabel('Epoch')\n",
        "plt.ylabel(\"Accuracy\")\n",
        "plt.legend()\n",
        "\n",
        "plt.show()"
      ],
      "metadata": {
        "colab": {
          "base_uri": "https://localhost:8080/",
          "height": 410
        },
        "id": "5IyTXge-OTs-",
        "outputId": "e2592569-bdf0-4966-f9bd-02a097cd1860"
      },
      "execution_count": null,
      "outputs": [
        {
          "output_type": "display_data",
          "data": {
            "text/plain": [
              "<Figure size 1200x400 with 2 Axes>"
            ],
            "image/png": "[encoded data removed]"
          },
          "metadata": {}
        }
      ]
    },
    {
      "cell_type": "markdown",
      "source": [
        "# Generating Sample Text"
      ],
      "metadata": {
        "id": "TdnnvFfSB9CD"
      }
    },
    {
      "cell_type": "code",
      "source": [
        "# Function to generate text\n",
        "def generate_text(seed_text, length=200, temperature=0.7):\n",
        "    generated = seed_text\n",
        "    for _ in range(length):\n",
        "        x_pred = np.array([[chars_to_idx.get(c, 0) for c in generated[-SEQ_LEN:]]])\n",
        "        preds = model.predict(x_pred, verbose=0)[0]\n",
        "        # set temperature\n",
        "        preds = np.log(preds + 1e-10) / temperature\n",
        "        exp_preds = np.exp(preds)\n",
        "        preds = exp_preds / np.sum(exp_preds)\n",
        "        next_idx = np.random.choice(range(vocab_size), p=preds)\n",
        "        next_char = idx_to_chars[next_idx]\n",
        "        generated += next_char\n",
        "    return generated\n",
        "\n",
        "\n",
        "seed = text[1000:1000 + SEQ_LEN]  # انتخاب یه بخش از متن به‌عنوان seed\n",
        "for temp in [0.2, 0.7, 1.2]:\n",
        "    print(f\"\\nGenerated text with temperature={temp}:\")\n",
        "    print(generate_text(seed, length=300, temperature=temp))"
      ],
      "metadata": {
        "id": "EoCjJ32osM4o"
      },
      "execution_count": null,
      "outputs": []
    },
    {
      "cell_type": "code",
      "source": [],
      "metadata": {
        "id": "55_qfQBPsM15"
      },
      "execution_count": null,
      "outputs": []
    }
  ]
}