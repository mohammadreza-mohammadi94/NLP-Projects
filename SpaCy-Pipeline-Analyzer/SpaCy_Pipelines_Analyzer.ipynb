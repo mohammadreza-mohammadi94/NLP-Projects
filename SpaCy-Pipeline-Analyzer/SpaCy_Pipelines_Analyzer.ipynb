{
  "nbformat": 4,
  "nbformat_minor": 0,
  "metadata": {
    "colab": {
      "provenance": [],
      "authorship_tag": "ABX9TyMggNBnE9+A6tiYWgrZyjgD",
      "include_colab_link": true
    },
    "kernelspec": {
      "name": "python3",
      "display_name": "Python 3"
    },
    "language_info": {
      "name": "python"
    }
  },
  "cells": [
    {
      "cell_type": "markdown",
      "metadata": {
        "id": "view-in-github",
        "colab_type": "text"
      },
      "source": [
        "<a href=\"https://colab.research.google.com/github/mohammadreza-mohammadi94/NLP-Projects/blob/main/SpaCy-Pipeline-Analyzer/SpaCy_Pipelines_Analyzer.ipynb\" target=\"_parent\"><img src=\"https://colab.research.google.com/assets/colab-badge.svg\" alt=\"Open In Colab\"/></a>"
      ]
    },
    {
      "cell_type": "markdown",
      "source": [
        "# Import Framwords and Basic Setup"
      ],
      "metadata": {
        "id": "eP8YWfNZ0ouN"
      }
    },
    {
      "cell_type": "code",
      "source": [
        "\"\"\"\n",
        "SpaCy Pipeline Exploration Project\n",
        "\n",
        "This script demonstrates the SpaCy pipeline by processing a small text corpus,\n",
        "displaying default attributes (pos_, lemma_, dep_), and adding a custom component\n",
        "to identify words starting with a specific letter (e.g., 'c'). Results are\n",
        "presented in a tabular format and visualized.\n",
        "\"\"\"\n",
        "\n",
        "import spacy\n",
        "import pandas as pd\n",
        "from spacy.tokens import Token\n",
        "from spacy.language import Language\n",
        "import logging\n",
        "from typing import List, Dict, Optional\n",
        "import matplotlib.pyplot as plt\n",
        "import seaborn as sns"
      ],
      "metadata": {
        "id": "GdaZMhJI0om1"
      },
      "execution_count": 1,
      "outputs": []
    },
    {
      "cell_type": "code",
      "source": [
        "# Setup warning level\n",
        "import warnings\n",
        "warnings.filterwarnings(\"ignore\")"
      ],
      "metadata": {
        "id": "S1ZDBFFo0wRC"
      },
      "execution_count": 3,
      "outputs": []
    },
    {
      "cell_type": "code",
      "source": [
        "# Setup logging\n",
        "logging.basicConfig(level=logging.INFO, format='%(asctime)s - %(levelname)s - %(message)s')\n",
        "logger = logging.getLogger(__name__)"
      ],
      "metadata": {
        "id": "57EVm7lU0tFO"
      },
      "execution_count": 4,
      "outputs": []
    },
    {
      "cell_type": "code",
      "source": [],
      "metadata": {
        "id": "ucYBaTKW0tdX"
      },
      "execution_count": null,
      "outputs": []
    },
    {
      "cell_type": "markdown",
      "source": [
        "# Pipeline Analyzer"
      ],
      "metadata": {
        "id": "Rgo-xpRs014d"
      }
    },
    {
      "cell_type": "code",
      "execution_count": 5,
      "metadata": {
        "id": "n6XB0OoR0hz4"
      },
      "outputs": [],
      "source": [
        "class SpacyPipelineAnalyzer:\n",
        "    \"\"\"A class to analyze text using SpaCy's pipeline and custom components.\"\"\"\n",
        "\n",
        "    def __init__(self, model_name: str = \"en_core_web_sm\"):\n",
        "        \"\"\"\n",
        "        Initialize with a SpaCy model.\n",
        "\n",
        "        Args:\n",
        "            model_name (str): Name of the SpaCy model to load (default: 'en_core_web_sm').\n",
        "        \"\"\"\n",
        "        try:\n",
        "            self.nlp = spacy.load(model_name)\n",
        "            logger.info(f\"SpaCy model '{model_name}' loaded successfully\")\n",
        "        except OSError as e:\n",
        "            logger.error(f\"Model '{model_name}' not found. Please download it using 'python -m spacy download {model_name}'\")\n",
        "            raise e\n",
        "\n",
        "        # Register custom token extension\n",
        "        Token.set_extension(\"starts_with_c\", default=False, force=True)\n",
        "        self.results = {}\n",
        "\n",
        "    def add_custom_component(self) -> None:\n",
        "        \"\"\"Add a custom component to identify words starting with 'c'.\"\"\"\n",
        "\n",
        "        @Language.component(\"starts_with_c_component\")\n",
        "        def starts_with_c_component(doc):\n",
        "            for token in doc:\n",
        "                token._.starts_with_c = token.text.lower().startswith(\"c\")\n",
        "            return doc\n",
        "\n",
        "        try:\n",
        "            self.nlp.add_pipe(\"starts_with_c_component\", last=True)\n",
        "            logger.info(\"Custom component 'starts_with_c_component' added to pipeline\")\n",
        "        except ValueError as e:\n",
        "            logger.warning(f\"Component already exists or error occurred: {e}\")\n",
        "\n",
        "    def process_text(self, text: str) -> Dict[str, pd.DataFrame]:\n",
        "        \"\"\"\n",
        "        Process text with the pipeline and collect attributes.\n",
        "\n",
        "        Args:\n",
        "            text (str): Input text to process.\n",
        "\n",
        "        Returns:\n",
        "            Dict[str, pd.DataFrame]: Results with standard and custom attributes.\n",
        "        \"\"\"\n",
        "        try:\n",
        "            # Process with default pipeline (before adding custom component)\n",
        "            doc_default = self.nlp(text, disable=[\"starts_with_c_component\"] if \"starts_with_c_component\" in self.nlp.pipe_names else [])\n",
        "            data_default = [\n",
        "                {\n",
        "                    \"Text\": token.text,\n",
        "                    \"POS\": token.pos_,\n",
        "                    \"Lemma\": token.lemma_,\n",
        "                    \"Dependency\": token.dep_\n",
        "                }\n",
        "                for token in doc_default\n",
        "            ]\n",
        "            self.results[\"default\"] = pd.DataFrame(data_default)\n",
        "\n",
        "            # Process with full pipeline (including custom component)\n",
        "            doc_custom = self.nlp(text)\n",
        "            data_custom = [\n",
        "                {\n",
        "                    \"Text\": token.text,\n",
        "                    \"POS\": token.pos_,\n",
        "                    \"Lemma\": token.lemma_,\n",
        "                    \"Dependency\": token.dep_,\n",
        "                    \"Starts with 'c'\": token._.starts_with_c\n",
        "                }\n",
        "                for token in doc_custom\n",
        "            ]\n",
        "            self.results[\"custom\"] = pd.DataFrame(data_custom)\n",
        "\n",
        "            logger.info(\"Text processed successfully with default and custom pipelines\")\n",
        "            return self.results\n",
        "        except Exception as e:\n",
        "            logger.error(f\"Error processing text: {e}\")\n",
        "            return {}\n",
        "\n",
        "    def display_results(self) -> None:\n",
        "        \"\"\"Display results in a formatted table.\"\"\"\n",
        "        for key, df in self.results.items():\n",
        "            if df.empty:\n",
        "                logger.warning(f\"No data for {key} pipeline\")\n",
        "                continue\n",
        "            print(f\"\\n{key.replace('_', ' ').title()} Pipeline Results:\")\n",
        "            print(df.to_string(index=False))\n",
        "            logger.info(f\"Displayed results for {key} pipeline\")\n",
        "\n",
        "    def visualize_attribute_distribution(self) -> None:\n",
        "        \"\"\"Visualize the distribution of POS tags and custom attribute.\"\"\"\n",
        "        if not self.results:\n",
        "            logger.warning(\"No results to visualize\")\n",
        "            return\n",
        "\n",
        "        # Prepare data for visualization\n",
        "        fig, axes = plt.subplots(1, 2, figsize=(14, 5))\n",
        "\n",
        "        # POS distribution (default pipeline)\n",
        "        if \"default\" in self.results:\n",
        "            pos_counts = self.results[\"default\"][\"POS\"].value_counts()\n",
        "            sns.barplot(x=pos_counts.index, y=pos_counts.values, ax=axes[0], palette=\"viridis\")\n",
        "            axes[0].set_title(\"POS Tag Distribution\", fontsize=14, fontweight=\"bold\")\n",
        "            axes[0].set_xlabel(\"POS Tags\")\n",
        "            axes[0].set_ylabel(\"Count\")\n",
        "            axes[0].tick_params(axis=\"x\", rotation=45)\n",
        "\n",
        "        # Custom attribute distribution (custom pipeline)\n",
        "        if \"custom\" in self.results:\n",
        "            c_counts = self.results[\"custom\"][\"Starts with 'c'\"].value_counts()\n",
        "            sns.barplot(x=c_counts.index, y=c_counts.values, ax=axes[1], palette=\"magma\")\n",
        "            axes[1].set_title(\"Words Starting with 'c' Distribution\", fontsize=14, fontweight=\"bold\")\n",
        "            axes[1].set_xlabel(\"Starts with 'c'\")\n",
        "            axes[1].set_ylabel(\"Count\")\n",
        "\n",
        "        plt.tight_layout()\n",
        "        plt.savefig(\"pipeline_distribution.png\")\n",
        "        plt.show()\n",
        "        logger.info(\"Attribute distribution visualized\")\n",
        "\n",
        "    def save_results(self, filepath: str = \"spacy_pipeline_results.csv\") -> None:\n",
        "        \"\"\"Save results to a CSV file.\"\"\"\n",
        "        if not self.results:\n",
        "            logger.warning(\"No results to save\")\n",
        "            return\n",
        "\n",
        "        combined_df = pd.concat([df.assign(Pipeline=key) for key, df in self.results.items()], ignore_index=True)\n",
        "        combined_df.to_csv(filepath, index=False)\n",
        "        logger.info(f\"Results saved to {filepath}\")\n"
      ]
    },
    {
      "cell_type": "code",
      "source": [
        "def main():\n",
        "    \"\"\"Main function to execute the SpaCy pipeline exploration project.\"\"\"\n",
        "    # Create a small text corpus (3 sentences)\n",
        "    text = (\n",
        "        \"The cat sleeps quietly in the room. \"\n",
        "        \"Dogs chase cats in the park daily. \"\n",
        "        \"I love coding and creating new tools.\"\n",
        "    )\n",
        "    logger.info(f\"Text corpus created: {text[:50]}...\")\n",
        "\n",
        "    # Initialize SpacyPipelineAnalyzer\n",
        "    analyzer = SpacyPipelineAnalyzer()\n",
        "\n",
        "    # Add custom component\n",
        "    analyzer.add_custom_component()\n",
        "    logger.info(f\"Updated pipeline: {analyzer.nlp.pipe_names}\")\n",
        "\n",
        "    # Process text and collect attributes\n",
        "    analyzer.process_text(text)\n",
        "\n",
        "    # Display results\n",
        "    analyzer.display_results()\n",
        "\n",
        "    # Visualize attribute distribution\n",
        "    analyzer.visualize_attribute_distribution()\n",
        "\n",
        "    # Save results\n",
        "    analyzer.save_results(\"spacy_pipeline_results.csv\")\n",
        "\n",
        "\n",
        "main()"
      ],
      "metadata": {
        "colab": {
          "base_uri": "https://localhost:8080/",
          "height": 1000
        },
        "id": "0tVCvn3Y1FCe",
        "outputId": "10521ccc-105c-4401-8d61-60436e7c50f6"
      },
      "execution_count": 6,
      "outputs": [
        {
          "output_type": "stream",
          "name": "stdout",
          "text": [
            "\n",
            "Default Pipeline Results:\n",
            "    Text   POS   Lemma Dependency\n",
            "     The   DET     the        det\n",
            "     cat  NOUN     cat      nsubj\n",
            "  sleeps  VERB   sleep       ROOT\n",
            " quietly   ADV quietly     advmod\n",
            "      in   ADP      in       prep\n",
            "     the   DET     the        det\n",
            "    room  NOUN    room       pobj\n",
            "       . PUNCT       .      punct\n",
            "    Dogs  NOUN     dog   compound\n",
            "   chase  NOUN   chase   compound\n",
            "    cats  NOUN     cat       ROOT\n",
            "      in   ADP      in       prep\n",
            "     the   DET     the        det\n",
            "    park  NOUN    park       pobj\n",
            "   daily   ADV   daily     advmod\n",
            "       . PUNCT       .      punct\n",
            "       I  PRON       I      nsubj\n",
            "    love  VERB    love       ROOT\n",
            "  coding  VERB    code      xcomp\n",
            "     and CCONJ     and         cc\n",
            "creating  VERB  create       conj\n",
            "     new   ADJ     new       amod\n",
            "   tools  NOUN    tool       dobj\n",
            "       . PUNCT       .      punct\n",
            "\n",
            "Custom Pipeline Results:\n",
            "    Text   POS   Lemma Dependency  Starts with 'c'\n",
            "     The   DET     the        det            False\n",
            "     cat  NOUN     cat      nsubj             True\n",
            "  sleeps  VERB   sleep       ROOT            False\n",
            " quietly   ADV quietly     advmod            False\n",
            "      in   ADP      in       prep            False\n",
            "     the   DET     the        det            False\n",
            "    room  NOUN    room       pobj            False\n",
            "       . PUNCT       .      punct            False\n",
            "    Dogs  NOUN     dog   compound            False\n",
            "   chase  NOUN   chase   compound             True\n",
            "    cats  NOUN     cat       ROOT             True\n",
            "      in   ADP      in       prep            False\n",
            "     the   DET     the        det            False\n",
            "    park  NOUN    park       pobj            False\n",
            "   daily   ADV   daily     advmod            False\n",
            "       . PUNCT       .      punct            False\n",
            "       I  PRON       I      nsubj            False\n",
            "    love  VERB    love       ROOT            False\n",
            "  coding  VERB    code      xcomp             True\n",
            "     and CCONJ     and         cc            False\n",
            "creating  VERB  create       conj             True\n",
            "     new   ADJ     new       amod            False\n",
            "   tools  NOUN    tool       dobj            False\n",
            "       . PUNCT       .      punct            False\n"
          ]
        },
        {
          "output_type": "display_data",
          "data": {
            "text/plain": [
              "<Figure size 1400x500 with 2 Axes>"
            ],
            "image/png": "[encoded data removed]"
          },
          "metadata": {}
        }
      ]
    }
  ]
}